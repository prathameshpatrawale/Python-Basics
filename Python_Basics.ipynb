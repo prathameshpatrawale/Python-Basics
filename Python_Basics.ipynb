{
 "cells": [
  {
   "cell_type": "markdown",
   "metadata": {},
   "source": [
    "# Python Basics Questions"
   ]
  },
  {
   "cell_type": "markdown",
   "metadata": {},
   "source": [
    "1. What is Python, and why is it popular?\n",
    " > Python is a versatile, highlevel programing language it is known for its readability, simplicity and it's a beginer friendly language. It is popular due to easy to use and has vast collection of libraries and has strong active cummunity.\n",
    "\n",
    "2. What is an interpreter in Python?\n",
    " > An interpreter in Python is a program that directly executes Python code line by line, translating it into machine-executable instructions. The Python interpreter converts code into bytecode before running it.\n",
    "\n",
    "3. What are pre-defined keywords in Python?\n",
    " > The predefined keywords in python which are reserved words that have specific meaning and functions, they can not used as veriable or functions names. eg. for,while,and,or,none.def,class,print,try etc.\n",
    "\n",
    "4. Can keywords be used as variable names?\n",
    " > No, keywords are not used as variable names Beacuse keywords are reserved in python for specific purpose.\n",
    "\n",
    "5. What is mutability in Python?\n",
    " > mutability refers to the ability to modify data structures wuthout creating new copy. eg. list,set,dictionary.\n",
    "\n",
    "6. Why are lists mutable, but tuples are immutable?\n",
    " > Because list can be modified/change easy without making copy so,they are mutable. But, tuples are not changable/modified so,they are immutable.\n",
    "\n",
    "7. What is the difference between “==” and “is” operators in Python?\n",
    " > The \"==\" operator checks if value of two objects are equal, while \"is\" operator check if two objects refer to same memmory location or not.\n",
    "\n",
    "8. What are logical operators in Python?\n",
    " > Logical operator in python are \"and\" , \"or\" and \"not\". while, \n",
    " \"and\" operator Returns 'True' if both conditions are True. otherwise returns  False .\n",
    " \"or\" operator Returns 'False' if both conditions are False. otherwise returns True.\n",
    " \"not\" operator Return 'Reverse' of result. if condition is 'True' it return 'False' voice versa.\n",
    "\n",
    "9. What is type casting in Python?\n",
    " > The type casting is the changing of one data types to another data type if it is valid. eg. 'str','int','float','list','set','tuple',dict. etc.\n",
    "\n",
    "10. What is the difference between implicit and explicit type casting?\n",
    " > The \"Implicit\" type casting means automatically converts one type to another. eg. 5 + 6.5 this gives 11.5 result. where, 5 is 'int'and 6.5 is 'float' so, 'int' convert to 'float'automaticaly while adding. This is implicit type casting.\n",
    " \"Explicit\" type casting is the manually changing one type to another. eg. if we have number in 'str' format \"45\" so, we have to manually convert it into 'int' like this int(\"45\") this is explicit type casting.\n",
    "\n",
    "11. What is the purpose of conditional statements in Python?\n",
    " > Conditional statements are used to perform different actions based on specific conditions. They help control the flow of a program by executing code blocks when certain conditions are met.\n",
    "\n",
    "12. How does the elif statement work?\n",
    " > The elif statement allows multiple conditions to be checked sequentially after an if statement. If the previous if condition is false, the elif condition is evaluated. If the elif condition is true, its block executes; otherwise, the next condition is checked..\n",
    "\n",
    "13. What is the difference between for and while loops?\n",
    " > \"for loop\" is mostly used to iterate over an elements in data types, it has range function also to iterate between given numbers, it is used when number of iteration is know.\n",
    " \"while loop\" is most used to iterate if number of iteration not known and its depends on conditions that might be not known in advance,it repeats block of code till condition is true, it have need to give condition for incrementing or decrementing niether it becomes infinite.\n",
    "\n",
    "14. Describe a scenario where a while loop is more suitable than a for loop.\n",
    " > Whenever the number of iteration are not known but we have condition then we have to use while loop insted of for loop. eg. if we want to calculate sum of n natural numbers. we have to use while loop.\n"
   ]
  },
  {
   "cell_type": "markdown",
   "metadata": {},
   "source": [
    "# Practical Questions\n"
   ]
  },
  {
   "cell_type": "code",
   "execution_count": null,
   "metadata": {},
   "outputs": [
    {
     "name": "stdout",
     "output_type": "stream",
     "text": [
      "Hello, World!\n"
     ]
    }
   ],
   "source": [
    "# 1. Write a Python program to print \"Hello, World!\"?\n",
    "\n",
    "print(\"Hello, World!\")"
   ]
  },
  {
   "cell_type": "code",
   "execution_count": 2,
   "metadata": {},
   "outputs": [
    {
     "name": "stdout",
     "output_type": "stream",
     "text": [
      "name = Prathamesh, age =21\n",
      "Prathamesh, 21\n"
     ]
    }
   ],
   "source": [
    "# 2. Write a Python program that displays your name and age\n",
    "\n",
    "name = \"Prathamesh\"\n",
    "age = 21\n",
    "print(f\"name = {name}, age ={age}\")\n",
    "\n",
    "# Or\n",
    "print(\"Prathamesh, 21\")"
   ]
  },
  {
   "cell_type": "code",
   "execution_count": 3,
   "metadata": {},
   "outputs": [
    {
     "name": "stdout",
     "output_type": "stream",
     "text": [
      "Python Keywords:\n",
      "['False', 'None', 'True', 'and', 'as', 'assert', 'async', 'await', 'break', 'class', 'continue', 'def', 'del', 'elif', 'else', 'except', 'finally', 'for', 'from', 'global', 'if', 'import', 'in', 'is', 'lambda', 'nonlocal', 'not', 'or', 'pass', 'raise', 'return', 'try', 'while', 'with', 'yield']\n"
     ]
    }
   ],
   "source": [
    "# 3. Write code to print all the pre-defined keywords in Python using the keyword library\n",
    "\n",
    "import keyword\n",
    "print(\"Python Keywords:\")\n",
    "print(keyword.kwlist)\n"
   ]
  },
  {
   "cell_type": "code",
   "execution_count": null,
   "metadata": {},
   "outputs": [
    {
     "name": "stdout",
     "output_type": "stream",
     "text": [
      "False\n"
     ]
    }
   ],
   "source": [
    "# 4. Write a program that checks if a given word is a Python keyword.\n",
    "import keyword\n",
    "a = input(\"Enter your word: \")\n",
    "print(a in keyword.kwlist)"
   ]
  },
  {
   "cell_type": "code",
   "execution_count": 5,
   "metadata": {},
   "outputs": [
    {
     "name": "stdout",
     "output_type": "stream",
     "text": [
      "original list :  ['ram', 'sita', 'ravi', 'mohan']\n",
      "changed list :  ['ram', 'vishal', 'ravi', 'mohan']\n",
      "original tuple :  ('ram', 'sita', 'ravi', 'mohan')\n"
     ]
    },
    {
     "ename": "TypeError",
     "evalue": "'tuple' object does not support item assignment",
     "output_type": "error",
     "traceback": [
      "\u001b[1;31m---------------------------------------------------------------------------\u001b[0m",
      "\u001b[1;31mTypeError\u001b[0m                                 Traceback (most recent call last)",
      "Cell \u001b[1;32mIn[5], line 11\u001b[0m\n\u001b[0;32m      9\u001b[0m t \u001b[38;5;241m=\u001b[39m (\u001b[38;5;124m\"\u001b[39m\u001b[38;5;124mram\u001b[39m\u001b[38;5;124m\"\u001b[39m, \u001b[38;5;124m\"\u001b[39m\u001b[38;5;124msita\u001b[39m\u001b[38;5;124m\"\u001b[39m, \u001b[38;5;124m\"\u001b[39m\u001b[38;5;124mravi\u001b[39m\u001b[38;5;124m\"\u001b[39m, \u001b[38;5;124m\"\u001b[39m\u001b[38;5;124mmohan\u001b[39m\u001b[38;5;124m\"\u001b[39m)\n\u001b[0;32m     10\u001b[0m \u001b[38;5;28mprint\u001b[39m(\u001b[38;5;124m\"\u001b[39m\u001b[38;5;124moriginal tuple : \u001b[39m\u001b[38;5;124m\"\u001b[39m, t)\n\u001b[1;32m---> 11\u001b[0m \u001b[43mt\u001b[49m\u001b[43m[\u001b[49m\u001b[38;5;241;43m1\u001b[39;49m\u001b[43m]\u001b[49m \u001b[38;5;241m=\u001b[39m \u001b[38;5;124m\"\u001b[39m\u001b[38;5;124mvishal\u001b[39m\u001b[38;5;124m\"\u001b[39m \u001b[38;5;66;03m#This is not posible because tuple is immutable\u001b[39;00m\n\u001b[0;32m     12\u001b[0m \u001b[38;5;28mprint\u001b[39m(\u001b[38;5;124m\"\u001b[39m\u001b[38;5;124mchanged tuple : \u001b[39m\u001b[38;5;124m\"\u001b[39m, t) \u001b[38;5;66;03m#it will show error 'tuple' object does not support item assignment.\u001b[39;00m\n",
      "\u001b[1;31mTypeError\u001b[0m: 'tuple' object does not support item assignment"
     ]
    }
   ],
   "source": [
    "# 5. Create a list and tuple in Python, and demonstrate how attempting to change an element works differently for each.\n",
    "\n",
    "l = [\"ram\", \"sita\", \"ravi\", \"mohan\"]\n",
    "print(\"original list : \", l)\n",
    "l[1] = \"vishal\"\n",
    "print(\"changed list : \", l) # List are mutable so this is done.\n",
    "\n",
    "# For tuple\n",
    "t = (\"ram\", \"sita\", \"ravi\", \"mohan\")\n",
    "print(\"original tuple : \", t)\n",
    "t[1] = \"vishal\" #This is not posible because tuple is immutable\n",
    "print(\"changed tuple : \", t) #it will show error 'tuple' object does not support item assignment.\n"
   ]
  },
  {
   "cell_type": "code",
   "execution_count": null,
   "metadata": {},
   "outputs": [
    {
     "name": "stdout",
     "output_type": "stream",
     "text": [
      "Before call, list1: [1, 2, 3]\n",
      "Before call, num1: 50\n",
      "Inside function, list1: [1, 2, 3, 100]\n",
      "Inside function, num1: 60\n",
      "After call, list1: [1, 2, 3, 100]\n",
      "After call, num1: 50\n"
     ]
    }
   ],
   "source": [
    "# 6. Write a function to demonstrate the behavior of mutable and immutable arguments.\n",
    "\n",
    "def funct1(list1, num1):\n",
    "    list1.append(100)\n",
    "    print(\"Inside function, list1:\", list1)\n",
    "    num1 += 10\n",
    "    print(\"Inside function, num1:\", num1)\n",
    "\n",
    "list1 = [1, 2, 3]  # Mutable\n",
    "num1 = 50        # Immutable\n",
    "print(\"Before call, list1:\", list1)\n",
    "print(\"Before call, num1:\", num1)\n",
    "\n",
    "funct1(list1, num1)\n",
    "print(\"After call, list1:\", list1)\n",
    "print(\"After call, num1:\", num1)\n",
    "\n"
   ]
  },
  {
   "cell_type": "code",
   "execution_count": null,
   "metadata": {},
   "outputs": [
    {
     "name": "stdout",
     "output_type": "stream",
     "text": [
      "Sum of a and b =  55\n",
      "substraction of a and b =  45\n",
      "multiplication of a and b =  250\n",
      "devision of a and b =  10.0\n"
     ]
    }
   ],
   "source": [
    "# 7. Write a program that performs basic arithmetic operations on two user-input numbers.\n",
    "\n",
    "# here are operations for two user input\n",
    "a = int(input(\"Enter your number:\"))\n",
    "b = int(input(\"Enter your number:\"))\n",
    "\n",
    "add = a+b\n",
    "print(\"Sum of a and b = \",add)\n",
    "sub = a-b\n",
    "print(\"substraction of a and b = \",sub)\n",
    "mul = a*b\n",
    "print(\"multiplication of a and b = \",mul)\n",
    "dev = a/b\n",
    "print(\"devision of a and b = \",dev)"
   ]
  },
  {
   "cell_type": "code",
   "execution_count": 6,
   "metadata": {},
   "outputs": [
    {
     "name": "stdout",
     "output_type": "stream",
     "text": [
      "Both numbers are positive.\n",
      "At least one of the numbers is even.\n",
      "The numbers are not equal.\n"
     ]
    }
   ],
   "source": [
    "# 8. Write a program to demonstrate the use of logical operators.\n",
    "\n",
    "# Input from the user\n",
    "a = int(input(\"Enter the your number: \"))\n",
    "b = int(input(\"Enter the your number: \"))\n",
    "\n",
    "# Logical AND operator\n",
    "if a > 0 and b > 0:\n",
    "    print(\"Both numbers are positive.\")\n",
    "# Logical OR operator\n",
    "if a % 2 == 0 or b % 2 == 0:\n",
    "    print(\"At least one of the numbers is even.\")\n",
    "# Logical NOT operator\n",
    "if not (a == b):\n",
    "    print(\"The numbers are not equal.\")\n",
    "else:\n",
    "    print(\"The numbers are equal.\")\n"
   ]
  },
  {
   "cell_type": "code",
   "execution_count": 8,
   "metadata": {},
   "outputs": [
    {
     "name": "stdout",
     "output_type": "stream",
     "text": [
      "45 <class 'int'>\n",
      "45.0 <class 'float'>\n",
      "True <class 'bool'>\n"
     ]
    }
   ],
   "source": [
    "# 9. Write a Python program to convert user input from string to integer, float, and boolean types.\n",
    "\n",
    "User_input = input(\"Enter a number\")\n",
    "a = int(User_input)\n",
    "print(a,type(a))\n",
    "b = float(User_input)\n",
    "print(b,type(b))\n",
    "c = bool(User_input)\n",
    "print(c,type(c))\n"
   ]
  },
  {
   "cell_type": "code",
   "execution_count": null,
   "metadata": {},
   "outputs": [
    {
     "ename": "NameError",
     "evalue": "name 'i' is not defined",
     "output_type": "error",
     "traceback": [
      "\u001b[1;31m---------------------------------------------------------------------------\u001b[0m",
      "\u001b[1;31mNameError\u001b[0m                                 Traceback (most recent call last)",
      "Cell \u001b[1;32mIn[10], line 4\u001b[0m\n\u001b[0;32m      1\u001b[0m \u001b[38;5;66;03m# 10. Write code to demonstrate type casting with list elements\u001b[39;00m\n\u001b[0;32m      3\u001b[0m l \u001b[38;5;241m=\u001b[39m [\u001b[38;5;124m'\u001b[39m\u001b[38;5;124m23\u001b[39m\u001b[38;5;124m'\u001b[39m,\u001b[38;5;241m32\u001b[39m ,\u001b[38;5;124m'\u001b[39m\u001b[38;5;124m53\u001b[39m\u001b[38;5;124m'\u001b[39m]\n\u001b[1;32m----> 4\u001b[0m \u001b[38;5;28mprint\u001b[39m(\u001b[38;5;28mint\u001b[39m(\u001b[43mi\u001b[49m \u001b[38;5;129;01min\u001b[39;00m l))\n",
      "\u001b[1;31mNameError\u001b[0m: name 'i' is not defined"
     ]
    }
   ],
   "source": [
    "# 10. Write code to demonstrate type casting with list elements\n",
    "\n",
    "data_list = [1, 2, 3, \"4\", \"5\", \"6\"]\n",
    "\n",
    "print(\"Original List:\", data_list)\n",
    "\n",
    "string_list = [str(element) for element in data_list]\n",
    "print(\"List with all elements as strings:\", string_list)\n",
    "\n",
    "int_list = [int(element) if isinstance(element, str) else element for element in data_list]\n",
    "print(\"List with all elements as integers:\", int_list)\n",
    "\n",
    "float_list = [float(element) for element in int_list]\n",
    "print(\"List with all elements as floats:\", float_list)\n"
   ]
  },
  {
   "cell_type": "code",
   "execution_count": 11,
   "metadata": {},
   "outputs": [
    {
     "name": "stdout",
     "output_type": "stream",
     "text": [
      "The given number is Negative\n"
     ]
    }
   ],
   "source": [
    "# 11. Write a program that checks if a number is positive, negative, or zero.\n",
    "User_input = int(input(\"Enter your number: \"))\n",
    "if User_input > 0:\n",
    "    print(\"The given number is Positive\")\n",
    "elif User_input < 0:\n",
    "    print(\"The given number is Negative\")\n",
    "else:\n",
    "    print(\"The given number is Zero\")"
   ]
  },
  {
   "cell_type": "code",
   "execution_count": 12,
   "metadata": {},
   "outputs": [
    {
     "name": "stdout",
     "output_type": "stream",
     "text": [
      "1\n",
      "2\n",
      "3\n",
      "4\n",
      "5\n",
      "6\n",
      "7\n",
      "8\n",
      "9\n",
      "10\n"
     ]
    }
   ],
   "source": [
    "# 12. Write a for loop to print numbers from 1 to 10.\n",
    "\n",
    "for i in range (1,11):\n",
    "    print(i)"
   ]
  },
  {
   "cell_type": "code",
   "execution_count": null,
   "metadata": {},
   "outputs": [
    {
     "name": "stdout",
     "output_type": "stream",
     "text": [
      "Sum all even numbers till 50 =  630\n"
     ]
    }
   ],
   "source": [
    "# 13. Write a Python program to find the sum of all even numbers between 1 and 50.\n",
    "n = 50\n",
    "sum = 0\n",
    "i = 1\n",
    "while i <= n:\n",
    "    if i % 2 == 0:\n",
    "        sum += i\n",
    "    i += 1\n",
    "print(\"Sum of all even numbers till 50 = \", sum)"
   ]
  },
  {
   "cell_type": "code",
   "execution_count": 25,
   "metadata": {},
   "outputs": [
    {
     "name": "stdout",
     "output_type": "stream",
     "text": [
      "hsemahtarp\n"
     ]
    }
   ],
   "source": [
    "# 14. Write a program to reverse a string using a while loop\n",
    "name = \"prathamesh\"\n",
    "reverse_str = \"\"\n",
    "i = 0\n",
    "while i < len(name):\n",
    "    reverse_str = name[i] + reverse_str\n",
    "    i += 1\n",
    "print(reverse_str)"
   ]
  },
  {
   "cell_type": "code",
   "execution_count": 26,
   "metadata": {},
   "outputs": [
    {
     "name": "stdout",
     "output_type": "stream",
     "text": [
      " Factorial of 5 = 120\n"
     ]
    }
   ],
   "source": [
    "# 15. Write a Python program to calculate the factorial of a number provided by the user using a while loop.\n",
    "\n",
    "n = int(input(\"Enter your number: \"))\n",
    "i = 1\n",
    "factorial_of_n = 1\n",
    "while i>=1 and i <= n:\n",
    "    factorial_of_n *= i\n",
    "    i += 1\n",
    "print(f\" Factorial of {n} = {factorial_of_n}\")\n"
   ]
  },
  {
   "cell_type": "code",
   "execution_count": null,
   "metadata": {},
   "outputs": [],
   "source": []
  }
 ],
 "metadata": {
  "kernelspec": {
   "display_name": "Python 3",
   "language": "python",
   "name": "python3"
  },
  "language_info": {
   "codemirror_mode": {
    "name": "ipython",
    "version": 3
   },
   "file_extension": ".py",
   "mimetype": "text/x-python",
   "name": "python",
   "nbconvert_exporter": "python",
   "pygments_lexer": "ipython3",
   "version": "3.13.2"
  }
 },
 "nbformat": 4,
 "nbformat_minor": 2
}
